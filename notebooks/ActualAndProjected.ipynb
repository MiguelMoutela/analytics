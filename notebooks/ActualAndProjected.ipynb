{
 "cells": [
  {
   "cell_type": "code",
   "execution_count": null,
   "metadata": {},
   "outputs": [],
   "source": [
    "import numpy as np\n",
    "import pandas as pd\n",
    "import matplotlib as mpl\n",
    "import matplotlib.pyplot as plt\n",
    "import seaborn as sns\n",
    "from datetime import datetime, timedelta\n",
    "\n",
    "from src.aou_summary import *\n",
    "\n",
    "start_date = '2017-05-21'\n",
    "end_date = '2018-06-02'\n",
    "interval = 'week'\n",
    "\n",
    "raw_data_path = '../../data/IntervalTotals/20180608_dates_all.txt'\n",
    "\n",
    "summary = AouSummary(raw_data_path, start_date, end_date, interval)\n",
    "cumulative_totals = summary.cumulative_totals\n",
    "\n",
    "dates = sorted(cumulative_totals.keys())\n",
    "weeks = [i for i, date in enumerate(dates)]\n",
    "full_participants = [cumulative_totals[date] for date in dates]\n",
    "\n",
    "d = {'week': weeks, 'full_participants': full_participants, 'date': dates}\n",
    "fp_counts_by_date = pd.DataFrame(data=d)\n",
    "fp_counts_by_date[-15:]"
   ]
  },
  {
   "cell_type": "code",
   "execution_count": null,
   "metadata": {
    "scrolled": false
   },
   "outputs": [],
   "source": [
    "sns.lmplot(\n",
    "    x='week', y='full_participants', data=fp_counts_by_date, order=2, \n",
    "    ci=None, size=8, scatter_kws={'s': 100}\n",
    ")\n",
    "plt.xlabel('Weeks since first full participant enrollment', fontsize=16)\n",
    "plt.xlim(0, None)\n",
    "plt.ylabel('Full participants', fontsize=16)\n",
    "plt.ylim(0, None)\n",
    "plt.title('Actual full participant growth, ' + start_date + ' - ' + end_date, fontsize=18)\n",
    "plt.show()"
   ]
  },
  {
   "cell_type": "code",
   "execution_count": null,
   "metadata": {},
   "outputs": [],
   "source": [
    "weeks_in_model = 7\n",
    "\n",
    "x = np.array(weeks[:-weeks_in_model])\n",
    "y = np.array(full_participants[:-weeks_in_model])\n",
    "polynomial = np.polyfit(x, y, 2)\n",
    "growth_model = np.poly1d(polynomial)\n",
    "\n",
    "poly = [str(round(x, 2)) for x in polynomial]\n",
    "\n",
    "model_equation = 'y = ' + poly[0] + 'x^2 + ' + poly[1] + 'x + ' + poly[2]\n",
    "model_equation"
   ]
  },
  {
   "cell_type": "code",
   "execution_count": null,
   "metadata": {},
   "outputs": [],
   "source": [
    "last_week_for_regression = weeks[-weeks_in_model]\n",
    "future_weeks = list(np.arange(26) + last_week_for_regression) # 26 week (6 month) forecast\n",
    "\n",
    "# Get projected full participant counts for future weeks,\n",
    "# and round those values.\n",
    "projected_fp_counts = growth_model(future_weeks)\n",
    "projected_fp_counts = [int(round(x)) for x in projected_fp_counts]\n",
    "\n",
    "# Show actual and projected (ap) values on the same chart\n",
    "ap_fp_counts = full_participants + projected_fp_counts\n",
    "ap_weeks = weeks + future_weeks\n",
    "\n",
    "# A list of hues (colors) to apply to each item in our plot\n",
    "hues = ['Actual']*len(full_participants) + ['Predicted']*len(projected_fp_counts)\n",
    "\n",
    "ap_d = {'week': ap_weeks, 'full_participants': ap_fp_counts, 'Legend': hues}\n",
    "ap_fp_counts_by_date = pd.DataFrame(data=ap_d)\n",
    "\n",
    "sns.lmplot(\n",
    "    x='week', y='full_participants', hue='Legend', data=ap_fp_counts_by_date, order=2, \n",
    "    ci=None, size=8, truncate=True\n",
    ")\n",
    "plt.xlabel('Weeks since first full participant enrollment', fontsize=16)\n",
    "plt.xlim(0, None)\n",
    "plt.ylabel('Full participants', fontsize=16)\n",
    "plt.ylim(0, None)\n",
    "plt.title('Actual and predicted full participant growth', fontsize=18)\n",
    "plt.show()"
   ]
  },
  {
   "cell_type": "code",
   "execution_count": null,
   "metadata": {},
   "outputs": [],
   "source": [
    "weeks_until = int(round(np.roots(growth_model - 1_000_000)[0]))\n",
    "start_datetime = datetime.strptime(start_date, '%Y-%M-%d')\n",
    "time_needed = timedelta(weeks=weeks_until)\n",
    "date_of_1_million_full_participants = (start_datetime + time_needed).strftime(\"%Y-%m-%d\")\n",
    "\n",
    "print(date_of_1_million_full_participants)"
   ]
  },
  {
   "cell_type": "code",
   "execution_count": null,
   "metadata": {
    "collapsed": true
   },
   "outputs": [],
   "source": []
  },
  {
   "cell_type": "code",
   "execution_count": null,
   "metadata": {
    "collapsed": true
   },
   "outputs": [],
   "source": []
  },
  {
   "cell_type": "code",
   "execution_count": null,
   "metadata": {
    "collapsed": true
   },
   "outputs": [],
   "source": []
  }
 ],
 "metadata": {
  "kernelspec": {
   "display_name": "Python 3",
   "language": "python",
   "name": "python3"
  },
  "language_info": {
   "codemirror_mode": {
    "name": "ipython",
    "version": 3
   },
   "file_extension": ".py",
   "mimetype": "text/x-python",
   "name": "python",
   "nbconvert_exporter": "python",
   "pygments_lexer": "ipython3",
   "version": "3.6.1"
  }
 },
 "nbformat": 4,
 "nbformat_minor": 2
}
