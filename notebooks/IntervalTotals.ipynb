{
 "cells": [
  {
   "cell_type": "code",
   "execution_count": null,
   "metadata": {},
   "outputs": [],
   "source": [
    "import json\n",
    "\n",
    "from src.aou_analytics import *\n",
    "\n",
    "start_date = '2017-05-21'\n",
    "end_date = '2017-11-18'\n",
    "hpo_of_interest = ''\n",
    "interval = 'week' # One of: day, week, month\n",
    "\n",
    "data_dir = '../../data/'\n",
    "raw_data_path = data_dir + 'IntervalTotals/20171122_dates_all.txt'\n",
    "\n",
    "rows = get_rows(raw_data_path)\n",
    "\n",
    "categories_by_site = json.loads(open(data_dir + 'site_categories.json').read())\n",
    "\n",
    "counts_by_site_per_day = get_counts_by_site_per_day(rows, start_date, end_date)\n",
    "\n",
    "counts_by_site_per_interval = get_counts_by_site_per_interval(counts_by_site_per_day, interval)\n",
    "\n",
    "milestones = get_milestones(counts_by_site_per_interval)\n",
    "\n",
    "dates = sorted(counts_by_site_per_interval['PITT'].keys())\n",
    "sites_at_milestone = get_sites_at_milestone(milestones, dates)\n",
    "\n",
    "counts_per_interval = get_counts_per_interval(counts_by_site_per_interval)\n",
    "\n",
    "cumulative_totals_by_site = get_cumulative_totals_by_site(counts_by_site_per_interval, dates)\n",
    "\n",
    "cumulative_totals = get_cumulative_totals(cumulative_totals_by_site, dates)\n",
    "\n",
    "# Cross-site average full participant enrollment per interval.\n",
    "# A mean adjustment excludes sites that haven't enrolled anyone yet.\n",
    "means_per_interval = get_means_per_interval(counts_per_interval, sites_at_milestone)\n",
    "            \n",
    "csv_interval_totals = get_csv_interval_totals(\n",
    "    counts_by_site_per_interval, hpo_of_interest, interval, counts_per_interval, \n",
    "    means_per_interval, cumulative_totals_by_site, cumulative_totals\n",
    ")\n",
    "\n",
    "print('Full participants by site per ' + interval)\n",
    "print('Date range: ' + start_date + ' - ' + end_date)\n",
    "print('')\n",
    "if hpo_of_interest != '':\n",
    "    print('Daily counts for ' + hpo_of_interest + ':')    \n",
    "print('\\n'.join(csv_interval_totals))\n",
    "\n",
    "if hpo_of_interest != '':\n",
    "    print('')\n",
    "    print('Total for ' + hpo_of_interest + ':')\n",
    "    print(totals[hpo_of_interest])"
   ]
  },
  {
   "cell_type": "code",
   "execution_count": null,
   "metadata": {
    "collapsed": true
   },
   "outputs": [],
   "source": []
  }
 ],
 "metadata": {
  "kernelspec": {
   "display_name": "Python 3",
   "language": "python",
   "name": "python3"
  },
  "language_info": {
   "codemirror_mode": {
    "name": "ipython",
    "version": 3
   },
   "file_extension": ".py",
   "mimetype": "text/x-python",
   "name": "python",
   "nbconvert_exporter": "python",
   "pygments_lexer": "ipython3",
   "version": "3.6.1"
  }
 },
 "nbformat": 4,
 "nbformat_minor": 1
}
