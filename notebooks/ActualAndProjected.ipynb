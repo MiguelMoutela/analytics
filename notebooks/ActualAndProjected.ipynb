{
 "cells": [
  {
   "cell_type": "code",
   "execution_count": null,
   "metadata": {},
   "outputs": [],
   "source": [
    "from src.aou_summary import *\n",
    "\n",
    "start_date = '2017-05-21'\n",
    "end_date = '2017-11-18'\n",
    "hpo_of_interest = ''\n",
    "interval = 'week' # One of: day, week, month\n",
    "\n",
    "data_dir = '../../data/'\n",
    "raw_data_path = data_dir + 'IntervalTotals/20171122_dates_all.txt'\n",
    "\n",
    "summary = get_summary(raw_data_path, start_date, end_date, interval)\n",
    "\n",
    "(\n",
    "    counts_by_site_per_interval, counts_per_interval, means_per_interval,\n",
    "    cumulative_totals_by_site, cumulative_totals, csv_interval_totals\n",
    ") = summary\n",
    "\n",
    "print(cumulative_totals)"
   ]
  },
  {
   "cell_type": "code",
   "execution_count": null,
   "metadata": {
    "collapsed": true
   },
   "outputs": [],
   "source": []
  }
 ],
 "metadata": {
  "kernelspec": {
   "display_name": "Python 3",
   "language": "python",
   "name": "python3"
  },
  "language_info": {
   "codemirror_mode": {
    "name": "ipython",
    "version": 3
   },
   "file_extension": ".py",
   "mimetype": "text/x-python",
   "name": "python",
   "nbconvert_exporter": "python",
   "pygments_lexer": "ipython3",
   "version": "3.6.1"
  }
 },
 "nbformat": 4,
 "nbformat_minor": 2
}
