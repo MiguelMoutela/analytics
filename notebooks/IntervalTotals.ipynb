{
 "cells": [
  {
   "cell_type": "code",
   "execution_count": null,
   "metadata": {},
   "outputs": [],
   "source": [
    "import json\n",
    "\n",
    "from src.aou_summary import *\n",
    "\n",
    "hpo_of_interest = ''\n",
    "\n",
    "start_date = '2018-02-11'\n",
    "end_date = '2018-03-14'\n",
    "interval = 'day' # One of: day, week, month\n",
    "\n",
    "# start_date = '2017-05-21'\n",
    "# end_date = '2018-03-10'\n",
    "# interval = 'week' # One of: day, week, month\n",
    "\n",
    "data_dir = '../../data/'\n",
    "raw_data_path = data_dir + 'IntervalTotals/20180314_dates_all.txt'\n",
    "\n",
    "summary = AouSummary(raw_data_path, start_date, end_date, interval)\n",
    "csv_interval_totals = summary.csv_interval_totals\n",
    "\n",
    "print('Full participants by site per ' + interval)\n",
    "print('Date range: ' + start_date + ' - ' + end_date)\n",
    "print('')\n",
    "if hpo_of_interest != '':\n",
    "    print('Daily counts for ' + hpo_of_interest + ':')    \n",
    "print('\\n'.join(csv_interval_totals))\n",
    "\n",
    "if hpo_of_interest != '':\n",
    "    print('')\n",
    "    print('Total for ' + hpo_of_interest + ':')\n",
    "    print(totals[hpo_of_interest])"
   ]
  },
  {
   "cell_type": "code",
   "execution_count": null,
   "metadata": {
    "collapsed": true
   },
   "outputs": [],
   "source": []
  }
 ],
 "metadata": {
  "kernelspec": {
   "display_name": "Python 3",
   "language": "python",
   "name": "python3"
  },
  "language_info": {
   "codemirror_mode": {
    "name": "ipython",
    "version": 3
   },
   "file_extension": ".py",
   "mimetype": "text/x-python",
   "name": "python",
   "nbconvert_exporter": "python",
   "pygments_lexer": "ipython3",
   "version": "3.6.1"
  }
 },
 "nbformat": 4,
 "nbformat_minor": 1
}
