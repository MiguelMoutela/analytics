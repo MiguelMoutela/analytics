{
 "cells": [
  {
   "cell_type": "code",
   "execution_count": null,
   "metadata": {},
   "outputs": [],
   "source": [
    "import numpy as np\n",
    "import pandas as pd\n",
    "import matplotlib as mpl\n",
    "import matplotlib.pyplot as plt\n",
    "import seaborn as sns\n",
    "\n",
    "from src.aou_summary import *\n",
    "\n",
    "sns.set(color_codes=True)\n",
    "\n",
    "start_date = '2017-05-21'\n",
    "end_date = '2017-11-18'\n",
    "hpo_of_interest = ''\n",
    "interval = 'week' # One of: day, week, month\n",
    "\n",
    "data_dir = '../../data/'\n",
    "raw_data_path = data_dir + 'IntervalTotals/20171122_dates_all.txt'\n",
    "\n",
    "summary = AouSummary(raw_data_path, start_date, end_date, interval)\n",
    "cumulative_totals = summary.cumulative_totals\n",
    "\n",
    "dates = sorted(cumulative_totals.keys())\n",
    "weeks = [i for i, date in enumerate(dates)]\n",
    "full_participants = [cumulative_totals[date] for date in dates]\n",
    "\n",
    "d = {'week': weeks, 'full_participants': full_participants}\n",
    "fp_counts_by_date = pd.DataFrame(data=d)\n",
    "print(fp_counts_by_date)"
   ]
  },
  {
   "cell_type": "code",
   "execution_count": null,
   "metadata": {},
   "outputs": [],
   "source": [
    "sns.lmplot(x=\"week\", y=\"full_participants\", data=fp_counts_by_date, order=2, ci=None, scatter_kws={\"s\": 80});\n",
    "plt.xlabel('Weeks since first full participant enrollment')\n",
    "plt.ylabel('Full participants')\n",
    "plt.title('Actual full participant growth, ' + start_date + ' - ' + end_date)\n",
    "plt.show()"
   ]
  },
  {
   "cell_type": "code",
   "execution_count": null,
   "metadata": {},
   "outputs": [],
   "source": [
    "x = np.array(weeks[:-15])\n",
    "y = np.array(full_participants[:-15])\n",
    "z = np.polyfit(x, y, 2)\n",
    "print(z)"
   ]
  },
  {
   "cell_type": "code",
   "execution_count": null,
   "metadata": {
    "collapsed": true
   },
   "outputs": [],
   "source": []
  }
 ],
 "metadata": {
  "kernelspec": {
   "display_name": "Python 3",
   "language": "python",
   "name": "python3"
  },
  "language_info": {
   "codemirror_mode": {
    "name": "ipython",
    "version": 3
   },
   "file_extension": ".py",
   "mimetype": "text/x-python",
   "name": "python",
   "nbconvert_exporter": "python",
   "pygments_lexer": "ipython3",
   "version": "3.6.1"
  }
 },
 "nbformat": 4,
 "nbformat_minor": 2
}
